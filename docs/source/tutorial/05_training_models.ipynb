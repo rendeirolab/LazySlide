{
 "cells": [
  {
   "cell_type": "markdown",
   "id": "1df73331906bcf35",
   "metadata": {},
   "source": [
    "# Training deep learning models with LazySlide"
   ]
  },
  {
   "cell_type": "markdown",
   "id": "6a559156-6909-46c5-bd0c-597fc02f2fe5",
   "metadata": {},
   "source": [
    "## Classification task"
   ]
  },
  {
   "cell_type": "markdown",
   "id": "3b777679-2963-476c-8136-1b5d17ac33ee",
   "metadata": {},
   "source": [
    "## Segmentation task"
   ]
  },
  {
   "cell_type": "markdown",
   "id": "a774bc01-fc85-41ac-9d02-0f0914e6e804",
   "metadata": {},
   "source": [
    "## Tissue generative model"
   ]
  },
  {
   "cell_type": "code",
   "execution_count": null,
   "id": "4ad9b7e0-f76f-4ad3-b922-5e1c4815f316",
   "metadata": {},
   "outputs": [],
   "source": []
  }
 ],
 "metadata": {
  "kernelspec": {
   "display_name": "Python 3 (ipykernel)",
   "language": "python",
   "name": "python3"
  },
  "language_info": {
   "codemirror_mode": {
    "name": "ipython",
    "version": 3
   },
   "file_extension": ".py",
   "mimetype": "text/x-python",
   "name": "python",
   "nbconvert_exporter": "python",
   "pygments_lexer": "ipython3",
   "version": "3.11.0"
  }
 },
 "nbformat": 4,
 "nbformat_minor": 5
}
