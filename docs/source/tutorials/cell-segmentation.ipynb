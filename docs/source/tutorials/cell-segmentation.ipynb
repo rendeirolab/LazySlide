{
 "cells": [
  {
   "cell_type": "code",
   "execution_count": null,
   "id": "1756e3c147ed36fe",
   "metadata": {},
   "outputs": [],
   "source": [
    "%config InlineBackend.figure_format = 'retina'\n",
    "%load_ext autoreload\n",
    "%autoreload 2\n",
    "\n",
    "import warnings\n",
    "import os\n",
    "\n",
    "warnings.filterwarnings(\"ignore\")\n",
    "os.environ[\"PYTORCH_ENABLE_MPS_FALLBACK\"] = \"1\"\n",
    "os.environ[\"OMP_NUM_THREADS\"] = \"8\""
   ]
  },
  {
   "cell_type": "markdown",
   "id": "44bf54d14cd50f25",
   "metadata": {},
   "source": [
    "# Cell segmentation"
   ]
  },
  {
   "cell_type": "code",
   "execution_count": null,
   "id": "ba5f707d1bdb9fb",
   "metadata": {},
   "outputs": [],
   "source": [
    "import lazyslide as zs"
   ]
  },
  {
   "cell_type": "code",
   "execution_count": null,
   "id": "49d35409c70717f1",
   "metadata": {},
   "outputs": [],
   "source": [
    "wsi = zs.datasets.sample(with_data=False)"
   ]
  },
  {
   "cell_type": "code",
   "execution_count": null,
   "id": "441e47a2ea0057f7",
   "metadata": {},
   "outputs": [],
   "source": [
    "wsi"
   ]
  },
  {
   "cell_type": "code",
   "execution_count": null,
   "id": "b2ddc086368c57fb",
   "metadata": {},
   "outputs": [],
   "source": [
    "zs.pp.find_tissues(wsi)\n",
    "zs.pp.tile_tissues(wsi, 512, background_fraction=0.95)"
   ]
  },
  {
   "cell_type": "code",
   "execution_count": null,
   "id": "107f1d1682720d22",
   "metadata": {},
   "outputs": [],
   "source": [
    "zs.pl.tiles(wsi, linewidth=0.4)"
   ]
  },
  {
   "cell_type": "code",
   "execution_count": null,
   "id": "48103b63acf7a50d",
   "metadata": {},
   "outputs": [],
   "source": [
    "zs.seg.cells(wsi, num_workers=0, device=\"mps\", batch_size=4)"
   ]
  },
  {
   "cell_type": "code",
   "execution_count": null,
   "id": "ddaa23e2eadb776c",
   "metadata": {},
   "outputs": [],
   "source": [
    "v = zs.pl.WSIViewer(wsi)\n",
    "v.add_image()\n",
    "v.add_polygons(\"cells\")\n",
    "v.add_zoom(1000, 1500, 2100, 2600)\n",
    "v.show()"
   ]
  },
  {
   "cell_type": "markdown",
   "id": "b9591335186484fc",
   "metadata": {},
   "source": [
    "Run on a bigger slide"
   ]
  },
  {
   "cell_type": "code",
   "execution_count": null,
   "id": "fcdf8301823d9f18",
   "metadata": {},
   "outputs": [],
   "source": [
    "from wsidata import open_wsi\n",
    "import pooch\n",
    "\n",
    "slide = pooch.retrieve(\n",
    "    url=\"https://brd.nci.nih.gov/brd/imagedownload/GTEX-11DXX-1626\",\n",
    "    fname=\"GTEX-11DXX-1626.svs\",\n",
    "    path=\".\",\n",
    "    known_hash=\"sha256:b88f44637fdbb80f545642ee4ea7ea3d155bea533a9052c47c01580f55bd206c\",\n",
    ")\n",
    "wsi = open_wsi(slide)"
   ]
  },
  {
   "cell_type": "code",
   "execution_count": null,
   "id": "7717fd0d1c352a4c",
   "metadata": {},
   "outputs": [],
   "source": [
    "wsi"
   ]
  },
  {
   "cell_type": "code",
   "execution_count": null,
   "id": "cb63b5d8a9ebfbe0",
   "metadata": {},
   "outputs": [],
   "source": [
    "zs.pp.find_tissues(wsi)\n",
    "zs.pp.tile_tissues(wsi, 512, overlap=0.1, background_fraction=0.3)"
   ]
  },
  {
   "cell_type": "code",
   "execution_count": null,
   "id": "4413a535215f7c51",
   "metadata": {},
   "outputs": [],
   "source": [
    "zs.seg.cells(wsi, device=\"mps\")"
   ]
  },
  {
   "cell_type": "code",
   "execution_count": null,
   "id": "c67a70680d06e8",
   "metadata": {},
   "outputs": [],
   "source": [
    "zs.seg.nulite(wsi, num_workers=0, device=\"mps\")"
   ]
  },
  {
   "cell_type": "code",
   "execution_count": null,
   "id": "bf8c780250427d30",
   "metadata": {},
   "outputs": [],
   "source": [
    "wsi[\"cell_types\"] = wsi[\"cell_types\"][wsi[\"cell_types\"][\"prob\"] > 0.75]"
   ]
  },
  {
   "cell_type": "code",
   "execution_count": null,
   "id": "d67b06053264781",
   "metadata": {},
   "outputs": [],
   "source": [
    "v = zs.pl.WSIViewer(wsi)\n",
    "v.add_image()\n",
    "v.add_polygons(\"cell_types\", color_by=\"name\")\n",
    "v.add_zoom(1000, 1500, 2100, 2600)\n",
    "v.show()"
   ]
  },
  {
   "cell_type": "code",
   "execution_count": null,
   "id": "8608e55cbe55bd3a",
   "metadata": {},
   "outputs": [],
   "source": [
    "v = zs.pl.WSIViewer(wsi)\n",
    "v.add_image()\n",
    "v.set_tissue_id(3)\n",
    "v.add_polygons(\"cells\")\n",
    "# v.add_zoom(0., 1500, 2100, 2600)\n",
    "# v.show()"
   ]
  },
  {
   "cell_type": "code",
   "execution_count": null,
   "id": "2546cc0c0b087e13",
   "metadata": {},
   "outputs": [],
   "source": [
    "v.set_viewport(43500, 12000, 1000, 1000)"
   ]
  },
  {
   "cell_type": "code",
   "execution_count": null,
   "id": "c0feecb95e6aec4f",
   "metadata": {},
   "outputs": [],
   "source": [
    "v.show()"
   ]
  },
  {
   "cell_type": "code",
   "execution_count": null,
   "id": "56bff68a825b501f",
   "metadata": {},
   "outputs": [],
   "source": [
    "wsi[\"cells\"].to_file(f\"{wsi.name}_cells.geojson\")"
   ]
  },
  {
   "cell_type": "code",
   "execution_count": null,
   "id": "cc56a5cfb95ef95d",
   "metadata": {},
   "outputs": [],
   "source": [
    "zs.io.export_annotations(wsi, \"cells\", in_bounds=True, file=f\"{wsi.name}_cells.geojson\")"
   ]
  }
 ],
 "metadata": {
  "kernelspec": {
   "display_name": "Python 3 (ipykernel)",
   "language": "python",
   "name": "python3"
  },
  "language_info": {
   "codemirror_mode": {
    "name": "ipython",
    "version": 3
   },
   "file_extension": ".py",
   "mimetype": "text/x-python",
   "name": "python",
   "nbconvert_exporter": "python",
   "pygments_lexer": "ipython3",
   "version": "3.12.8"
  },
  "widgets": {
   "application/vnd.jupyter.widget-state+json": {
    "state": {},
    "version_major": 2,
    "version_minor": 0
   }
  }
 },
 "nbformat": 4,
 "nbformat_minor": 5
}
