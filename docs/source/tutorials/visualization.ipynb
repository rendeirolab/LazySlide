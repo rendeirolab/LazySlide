{
 "cells": [
  {
   "cell_type": "code",
   "id": "4a2d08f4-52c8-41db-b465-951f5e938f19",
   "metadata": {
    "editable": true,
    "slideshow": {
     "slide_type": ""
    },
    "tags": [
     "remove-input"
    ]
   },
   "source": [
    "%config InlineBackend.figure_format = 'retina'\n",
    "%load_ext autoreload\n",
    "%autoreload 2\n",
    "\n",
    "import warnings\n",
    "\n",
    "warnings.filterwarnings(\"ignore\")"
   ],
   "outputs": [],
   "execution_count": null
  },
  {
   "cell_type": "markdown",
   "id": "928a3672-3aa6-47de-a27f-ef7c3837a0d8",
   "metadata": {
    "editable": true,
    "slideshow": {
     "slide_type": ""
    },
    "tags": []
   },
   "source": [
    "# WSI Visualization in LazySlide\n",
    "\n",
    "LazySlide implements different plotting functions to showcase different parts of `WSIData`."
   ]
  },
  {
   "cell_type": "code",
   "id": "2838a0d9-59c8-4cdb-b5ff-f1b2247bacb3",
   "metadata": {
    "editable": true,
    "slideshow": {
     "slide_type": ""
    },
    "tags": []
   },
   "source": [
    "import lazyslide as zs\n",
    "\n",
    "wsi = zs.datasets.gtex_artery()\n",
    "wsi"
   ],
   "outputs": [],
   "execution_count": null
  },
  {
   "cell_type": "markdown",
   "id": "329d6336-ac1d-488f-9db0-d1fb087799b2",
   "metadata": {},
   "source": [
    "## Visualize tissue\n",
    "\n",
    "The tissues have been detected, so you will see both colored contours and id of tissues."
   ]
  },
  {
   "cell_type": "code",
   "id": "8224fc1f-58fc-4971-9003-53a27dc145eb",
   "metadata": {},
   "source": [
    "zs.pl.tissue(wsi)"
   ],
   "outputs": [],
   "execution_count": null
  },
  {
   "cell_type": "markdown",
   "id": "b6d7092e-8bcd-482f-aa06-38446a76367f",
   "metadata": {},
   "source": [
    "If you want to zoom in to specific tissue, you can specify the tissue id."
   ]
  },
  {
   "cell_type": "code",
   "id": "437adbe3-8a5a-4f7a-8f02-42341515808e",
   "metadata": {},
   "source": [
    "zs.pl.tissue(wsi, tissue_id=0)"
   ],
   "outputs": [],
   "execution_count": null
  },
  {
   "cell_type": "markdown",
   "id": "22d1fb01-07bb-4077-bba9-4c84b0cf7a06",
   "metadata": {},
   "source": [
    "If this is not enough, you can add a zoom view to highlight specific region."
   ]
  },
  {
   "cell_type": "code",
   "id": "fc2bdb85-c47e-4a9c-aaac-0dac0c6e052f",
   "metadata": {},
   "source": [
    "zs.pl.tissue(wsi, tissue_id=0, zoom=[0.6, 0.9, 0.3, 0.6])"
   ],
   "outputs": [],
   "execution_count": null
  },
  {
   "cell_type": "markdown",
   "id": "18864d27-c67e-4f3b-a0a2-2e33734900dd",
   "metadata": {},
   "source": [
    "## Visualize tiles"
   ]
  },
  {
   "cell_type": "code",
   "id": "babf3536-e18e-4270-87d1-9e986ca84bbc",
   "metadata": {},
   "source": [
    "zs.pl.tiles(wsi)"
   ],
   "outputs": [],
   "execution_count": null
  },
  {
   "cell_type": "markdown",
   "id": "2eca4fba-51a6-41c8-b8c7-a9ef8174c828",
   "metadata": {},
   "source": [
    "By default, it will only display the tile grid on the tissues.\n",
    "\n",
    "If not clear enough, you can also zoom in."
   ]
  },
  {
   "cell_type": "code",
   "id": "34e56e08-19aa-4806-a712-6079e25e1b4c",
   "metadata": {},
   "source": [
    "zs.pl.tiles(wsi, tissue_id=0, zoom=[0.6, 0.9, 0.3, 0.6])"
   ],
   "outputs": [],
   "execution_count": null
  },
  {
   "cell_type": "markdown",
   "id": "47068652-8cc3-4801-89e1-3805afc650ee",
   "metadata": {},
   "source": [
    "Furthermore, we can project many features onto the tile visualization."
   ]
  },
  {
   "cell_type": "code",
   "id": "32dea465-5c6d-4d7e-b097-e0a543dcb930",
   "metadata": {},
   "source": [
    "wsi[\"tiles\"].head()"
   ],
   "outputs": [],
   "execution_count": null
  },
  {
   "cell_type": "code",
   "id": "e7658c04-28f1-4b55-8314-e8c69eae1224",
   "metadata": {},
   "source": [
    "zs.pl.tiles(wsi, tissue_id=0, color=[\"contrast\", \"focus\"])"
   ],
   "outputs": [],
   "execution_count": null
  },
  {
   "cell_type": "code",
   "id": "9cf216d0-b738-4c28-8b97-57c20e211d7c",
   "metadata": {},
   "source": [
    "zs.pl.tiles(wsi, tissue_id=0, color=\"contrast\", alpha=0.3, zoom=[0.6, 0.9, 0.3, 0.6])"
   ],
   "outputs": [],
   "execution_count": null
  },
  {
   "cell_type": "code",
   "id": "85560035-e9ea-4277-88af-a2622fb1da15",
   "metadata": {},
   "source": [
    "zs.pl.tiles(wsi, tissue_id=0, feature_key=\"resnet50\", color=[\"1\", \"100\"])"
   ],
   "outputs": [],
   "execution_count": null
  },
  {
   "cell_type": "markdown",
   "id": "3562427e-cbc9-40ff-9c97-d695c795453c",
   "metadata": {},
   "source": [
    "## Visualize annotations\n",
    "\n",
    "If you have imported pathological annotations, they can also be visualized."
   ]
  },
  {
   "cell_type": "code",
   "id": "1242fef0-2bef-47c4-87d8-79997f6ffdd7",
   "metadata": {},
   "source": [
    "wsi[\"annotations\"].head()"
   ],
   "outputs": [],
   "execution_count": null
  },
  {
   "cell_type": "code",
   "id": "d2bd3716-a5cf-4529-a690-d633533e47ef",
   "metadata": {},
   "source": [
    "zs.pl.annotations(wsi, \"annotations\", tissue_id=0)"
   ],
   "outputs": [],
   "execution_count": null
  },
  {
   "cell_type": "markdown",
   "id": "d0f081c2-6606-4f97-bf52-fb7209ff0ae5",
   "metadata": {},
   "source": [
    "You can also add labels onto the image."
   ]
  },
  {
   "cell_type": "code",
   "id": "440333e0-75a0-481e-90e1-471bdf31fda4",
   "metadata": {},
   "source": [
    "zs.pl.annotations(\n",
    "    wsi, \"annotations\", tissue_id=0, label=\"name\", zoom=[0.6, 0.9, 0.3, 0.6]\n",
    ")"
   ],
   "outputs": [],
   "execution_count": null
  },
  {
   "cell_type": "markdown",
   "id": "bcb128ea-2c1a-438d-b79c-f9d359520bc9",
   "metadata": {},
   "source": [
    "# Declarative visualization in LazySlide\n",
    "\n",
    "Since `WSIData` extends from `SpatialData`, you may use `spatialdata-plot` to visualize the WSI. However, LazySlide implements an super fast and efficient plotting system to help visualize WSI from macro structures to single cells.\n",
    "\n",
    "We start with an empty viewer, you will need to choose what to add on top of the visualization."
   ]
  },
  {
   "cell_type": "code",
   "id": "2a2005a6-6df2-47e3-a8aa-4c6759ce3b38",
   "metadata": {},
   "source": [
    "v = zs.pl.WSIViewer(wsi)\n",
    "v.show()"
   ],
   "outputs": [],
   "execution_count": null
  },
  {
   "cell_type": "markdown",
   "id": "47f677d6-9104-4e61-946f-d295c6149642",
   "metadata": {},
   "source": [
    "In most situation, we need the slide image as the background."
   ]
  },
  {
   "cell_type": "code",
   "id": "49a8bd96-9a8b-4878-8dd2-ed727b7352ce",
   "metadata": {},
   "source": [
    "v.add_image()\n",
    "v.show()"
   ],
   "outputs": [],
   "execution_count": null
  },
  {
   "cell_type": "code",
   "id": "1b633e96-7472-4ff4-8a8f-1d6b00b3b9cd",
   "metadata": {},
   "source": [
    "v.add_contours(\"tissues\")\n",
    "v.show()"
   ],
   "outputs": [],
   "execution_count": null
  },
  {
   "cell_type": "code",
   "id": "eb214665-3159-4a37-a34d-57e19c7f5f16",
   "metadata": {},
   "source": [
    "v.add_polygons(\"annotations\")\n",
    "v.show()"
   ],
   "outputs": [],
   "execution_count": null
  },
  {
   "cell_type": "code",
   "id": "d775e988-890d-4f47-896f-38da9109b084",
   "metadata": {},
   "source": [
    "v.set_tissue_id(0)\n",
    "v.show()"
   ],
   "outputs": [],
   "execution_count": null
  },
  {
   "cell_type": "code",
   "id": "ceb083bc-ff74-423a-b81c-99d9b8cdc54f",
   "metadata": {},
   "source": [
    "v.add_zoom(0.6, 0.9, 0.3, 0.6)\n",
    "v.add_scalebar()\n",
    "v.mark_origin()\n",
    "v.show()"
   ],
   "outputs": [],
   "execution_count": null
  },
  {
   "cell_type": "markdown",
   "id": "d84362b7-f981-4dc9-9e53-9705f72d15db",
   "metadata": {},
   "source": [
    "To summarize, you will have the following code"
   ]
  },
  {
   "cell_type": "code",
   "id": "0f81e455-bd46-4eda-adc9-6b6423e54dfc",
   "metadata": {},
   "source": [
    "v = zs.pl.WSIViewer(wsi)\n",
    "v.add_image()\n",
    "v.add_contours(\"tissues\")\n",
    "v.add_polygons(\"annotations\")\n",
    "v.set_tissue_id(0)\n",
    "v.add_zoom(0.6, 0.9, 0.3, 0.6)\n",
    "v.add_scalebar()\n",
    "v.mark_origin()"
   ],
   "outputs": [],
   "execution_count": null
  },
  {
   "cell_type": "markdown",
   "id": "8c773a80-e336-4787-acd1-aad516dd5286",
   "metadata": {},
   "source": [
    "If we don't called the `.show()` method, nothing will happen. The plotting will be lazily evaluated.\n",
    "\n",
    "Now let's called the `.show()` to render the final image."
   ]
  },
  {
   "cell_type": "code",
   "id": "87e404d5-6b29-4c61-92f8-f42ee075750e",
   "metadata": {},
   "source": [
    "v.show()"
   ],
   "outputs": [],
   "execution_count": null
  },
  {
   "cell_type": "markdown",
   "id": "c2912521-9011-442a-9b27-d4fc71fd2ef1",
   "metadata": {},
   "source": [
    "You can control if an element shoud be displayed in the zoom view.\n",
    "\n",
    "Here we disabled the display of yellow annotations in the zoom view."
   ]
  },
  {
   "cell_type": "code",
   "id": "c1ecbbd8-fe20-4594-a638-f84404ff58b8",
   "metadata": {},
   "source": [
    "v = zs.pl.WSIViewer(wsi)\n",
    "v.add_image()\n",
    "v.add_polygons(\"annotations\", in_zoom=False)\n",
    "v.set_tissue_id(0)\n",
    "v.add_zoom(0.6, 0.9, 0.3, 0.6)\n",
    "v.show()"
   ],
   "outputs": [],
   "execution_count": null
  },
  {
   "cell_type": "markdown",
   "id": "800589da-028a-48ff-abe8-a8bbeb2c7810",
   "metadata": {},
   "source": [
    "## Efficient debugging of visualization\n",
    "\n",
    "The progressive adding components on top of the images is cool, it gives you finer control on what to visualize.\n",
    "\n",
    "However, it's not efficient to debug, once you add a component, you cannot delete it.\n",
    "\n",
    "If you have a large image and you create a new viewer everytime when you want to modify some tiny details, you waste your time on re-computing the image rendering process.\n",
    "\n",
    "Luckily, we have a solution for this. When you add a component, simply set `cache=False`, and it will only be rendered in the next rendering."
   ]
  },
  {
   "cell_type": "code",
   "id": "2dba474a-0492-4eca-9ffd-0760e6294e38",
   "metadata": {},
   "source": [
    "v = zs.pl.WSIViewer(wsi)\n",
    "v.add_image()\n",
    "v.add_polygons(\"annotations\", cache=False)\n",
    "v.set_tissue_id(0)\n",
    "v.show()"
   ],
   "outputs": [],
   "execution_count": null
  },
  {
   "cell_type": "markdown",
   "id": "4adcd9b3-f52f-4cee-9ab9-bf84290c6e5e",
   "metadata": {},
   "source": [
    "If we called the `.show()` again, the annotation will disappered."
   ]
  },
  {
   "cell_type": "code",
   "id": "5a5304bd-d046-4483-bc33-48bf6ea9645b",
   "metadata": {},
   "source": [
    "v.show()"
   ],
   "outputs": [],
   "execution_count": null
  },
  {
   "cell_type": "markdown",
   "id": "b5cef8c8-5669-4926-a223-3cb56a108cb9",
   "metadata": {},
   "source": [
    "In this way, you can easily change color without recomputing the image rendering process.\n",
    "\n",
    "You may not notice the difference in this example, but if you have a huge WSI. This can make significant difference."
   ]
  },
  {
   "cell_type": "code",
   "id": "e8883321-a41b-4340-a8d6-085ed855d59d",
   "metadata": {},
   "source": [
    "v.add_polygons(\"annotations\", color=\"#604FDD\", cache=False)\n",
    "v.show()"
   ],
   "outputs": [],
   "execution_count": null
  }
 ],
 "metadata": {
  "kernelspec": {
   "display_name": "Python 3 (ipykernel)",
   "language": "python",
   "name": "python3"
  },
  "language_info": {
   "codemirror_mode": {
    "name": "ipython",
    "version": 3
   },
   "file_extension": ".py",
   "mimetype": "text/x-python",
   "name": "python",
   "nbconvert_exporter": "python",
   "pygments_lexer": "ipython3",
   "version": "3.12.8"
  },
  "widgets": {
   "application/vnd.jupyter.widget-state+json": {
    "state": {},
    "version_major": 2,
    "version_minor": 0
   }
  }
 },
 "nbformat": 4,
 "nbformat_minor": 5
}
