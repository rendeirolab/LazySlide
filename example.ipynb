{
 "cells": [
  {
   "cell_type": "markdown",
   "id": "e11d6009-3b8a-4f74-a8c8-ea056d576f6f",
   "metadata": {},
   "source": [
    "# Lazyslide Tutorial\n",
    "\n",
    "First, let's import the package"
   ]
  },
  {
   "cell_type": "code",
   "execution_count": 1,
   "id": "040a6933-50db-484f-8092-0d56dd3e7403",
   "metadata": {},
   "source": [
    "%config InlineBackend.figure_format = 'retina'\n",
    "import lazyslide as zs"
   ],
   "outputs": []
  },
  {
   "cell_type": "markdown",
   "id": "b9a6fe49-ad30-4640-bda3-7700b06a2092",
   "metadata": {},
   "source": [
    "We load a example slide from remote, we can take a quick look of what the tissue looks like"
   ]
  },
  {
   "cell_type": "code",
   "execution_count": 2,
   "id": "04e64c1f-3ac2-439f-88d3-a29aa2147d97",
   "metadata": {},
   "source": [
    "slide = 'https://github.com/camicroscope/Distro/raw/master/images/sample.svs'  # Your SVS file\n",
    "wsi = zs.WSI(slide)\n",
    "wsi.plot_tissue()"
   ],
   "outputs": []
  },
  {
   "cell_type": "markdown",
   "id": "62c74a4f-5001-4399-b120-3f3ace06266e",
   "metadata": {},
   "source": [
    "You can examine the slide information by print the `WSI` object"
   ]
  },
  {
   "cell_type": "code",
   "execution_count": 3,
   "id": "91c6fed6-c829-4564-aa99-b19879a0d68f",
   "metadata": {},
   "source": [
    "wsi"
   ],
   "outputs": []
  },
  {
   "cell_type": "markdown",
   "id": "6bdf4a24-d2bf-435c-a4cd-821a2d386589",
   "metadata": {},
   "source": [
    "## Tissue segmentation\n",
    "\n",
    "Before running the tile extration, we need to know the location of the tissue.\n",
    "\n",
    "You can create a tissue mask"
   ]
  },
  {
   "cell_type": "code",
   "execution_count": 4,
   "id": "2e971a7b-3064-4d41-b17f-322ed797ab57",
   "metadata": {},
   "source": [
    "wsi.create_tissue_mask()\n",
    "wsi.plot_mask()"
   ],
   "outputs": []
  },
  {
   "cell_type": "markdown",
   "id": "52e01278-ab35-4cbc-adfc-80cfaa0aa2fd",
   "metadata": {},
   "source": [
    "Alternatively, you can create tissue contours"
   ]
  },
  {
   "cell_type": "code",
   "execution_count": 5,
   "id": "3e97d623-e678-4d35-baed-0dc9352067f6",
   "metadata": {},
   "source": [
    "wsi.create_tissue_contours()\n",
    "wsi.plot_tissue(contours=True)"
   ],
   "outputs": []
  },
  {
   "cell_type": "markdown",
   "id": "eab12346-0c4a-406e-89f3-bb91e580a4e0",
   "metadata": {},
   "source": [
    "# Tile extraction\n",
    "\n",
    "Finally, we can run tile extration\n",
    "\n",
    "Here, we use a `FocusLiteFilter` model to filter out tiles that are out-of-focus"
   ]
  },
  {
   "cell_type": "code",
   "execution_count": 6,
   "id": "3ea3d47e-62f2-4546-b2a6-733461dc8623",
   "metadata": {},
   "source": [
    "filter = zs.FocusLiteFilter()\n",
    "\n",
    "wsi.create_tiles(tile_px=256, mpp=.5, tile_filter=filter, background_fraction=0.5)\n",
    "wsi.plot_tissue(tiles=True)"
   ],
   "outputs": []
  },
  {
   "cell_type": "markdown",
   "id": "c651937a-d79a-4442-a126-7065ec975a14",
   "metadata": {},
   "source": [
    "# Tile information\n",
    "\n",
    "You can access the tile information as following:"
   ]
  },
  {
   "cell_type": "code",
   "execution_count": 7,
   "id": "69ef7d5b-7047-4adc-9640-0dc1bfc01482",
   "metadata": {},
   "source": [
    "wsi.tile_ops"
   ],
   "outputs": []
  },
  {
   "cell_type": "code",
   "execution_count": 8,
   "id": "29dbe391-cbed-4fa7-9ab1-bdf7827d43ab",
   "metadata": {},
   "source": [
    "wsi.get_tiles_coords()"
   ],
   "outputs": []
  },
  {
   "cell_type": "markdown",
   "id": "61140d40-0eb2-4db2-b70a-35f27d782a13",
   "metadata": {},
   "source": [
    "To get a small patch from slide"
   ]
  },
  {
   "cell_type": "code",
   "execution_count": 9,
   "id": "aa4362e1-147c-4ba9-92a1-254953185b85",
   "metadata": {},
   "source": [
    "img = wsi.get_patch(1024, 256, 256, 256)"
   ],
   "outputs": []
  },
  {
   "cell_type": "code",
   "execution_count": 10,
   "id": "2e898de0-bc51-4479-bf46-9881b3be94cf",
   "metadata": {},
   "source": [
    "import matplotlib.pyplot as plt\n",
    "plt.imshow(img)"
   ],
   "outputs": []
  },
  {
   "cell_type": "markdown",
   "id": "ccb32b7e-c2c4-4809-bfbd-59eff2e539f1",
   "metadata": {},
   "source": [
    "To confirm the location of the tiles"
   ]
  },
  {
   "cell_type": "code",
   "execution_count": 11,
   "id": "e329be39-c288-4c9f-9689-41b325f8cb2c",
   "metadata": {},
   "source": [
    "wsi.plot_tissue(tiles=(1024, 256, 256, 256))"
   ],
   "outputs": []
  }
 ],
 "metadata": {
  "kernelspec": {
   "display_name": "Python 3 (ipykernel)",
   "language": "python",
   "name": "python3"
  },
  "language_info": {
   "codemirror_mode": {
    "name": "ipython",
    "version": 3
   },
   "file_extension": ".py",
   "mimetype": "text/x-python",
   "name": "python",
   "nbconvert_exporter": "python",
   "pygments_lexer": "ipython3",
   "version": "3.11.0"
  }
 },
 "nbformat": 4,
 "nbformat_minor": 5
}
